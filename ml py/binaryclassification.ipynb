{
  "nbformat": 4,
  "nbformat_minor": 0,
  "metadata": {
    "colab": {
      "name": "binaryclassification.ipynb",
      "provenance": [],
      "collapsed_sections": []
    },
    "kernelspec": {
      "name": "python3",
      "display_name": "Python 3"
    }
  },
  "cells": [
    {
      "cell_type": "markdown",
      "metadata": {
        "id": "xzuCQNs2hsp6"
      },
      "source": [
        "Задача бинарной классификации на большом корпусе imdb рецензий на фильмы. \n",
        "Корпус можно скачать по ссылке http://ai.stanford.edu/~amaas/data/sentiment/\n"
      ]
    },
    {
      "cell_type": "code",
      "metadata": {
        "id": "hKUGu-E_hoOi",
        "outputId": "c38f0bdf-6b3e-48c5-a553-f87ac503472f",
        "colab": {
          "base_uri": "https://localhost:8080/",
          "height": 34
        }
      },
      "source": [
        "from google.colab import drive\n",
        "drive.mount(\"/content/drive\")"
      ],
      "execution_count": null,
      "outputs": [
        {
          "output_type": "stream",
          "text": [
            "Drive already mounted at /content/drive; to attempt to forcibly remount, call drive.mount(\"/content/drive\", force_remount=True).\n"
          ],
          "name": "stdout"
        }
      ]
    },
    {
      "cell_type": "code",
      "metadata": {
        "id": "3HBxm5DJAbcD"
      },
      "source": [
        "from sklearn.metrics import *\n",
        "import numpy as np\n",
        "from matplotlib import pyplot\n",
        "from sklearn.linear_model import LogisticRegression\n",
        "from sklearn.feature_extraction.text import CountVectorizer"
      ],
      "execution_count": null,
      "outputs": []
    },
    {
      "cell_type": "code",
      "metadata": {
        "id": "m3rSKbQpq26w"
      },
      "source": [
        "!cp '/content/drive/My Drive/aclImdb_v1.tar.gz' '/content'"
      ],
      "execution_count": null,
      "outputs": []
    },
    {
      "cell_type": "code",
      "metadata": {
        "id": "z_ofSEm6qedS"
      },
      "source": [
        "import tarfile\n",
        "tar = tarfile.open(\"/content/drive/My Drive/aclImdb_v1.tar.gz\", \"r\")\n",
        "tar.extractall()"
      ],
      "execution_count": null,
      "outputs": []
    },
    {
      "cell_type": "code",
      "metadata": {
        "id": "02HHdpp3xRzq",
        "outputId": "838957d1-9a00-4a55-9559-0cd6a3ef553f",
        "colab": {
          "base_uri": "https://localhost:8080/",
          "height": 119
        }
      },
      "source": [
        "import nltk\n",
        "nltk.download('punkt')\n",
        "nltk.download('stopwords')\n",
        "nltk.download('wordnet')\n",
        "from nltk.stem import WordNetLemmatizer\n",
        "from nltk.corpus import stopwords \n",
        "lemmatizer = WordNetLemmatizer()"
      ],
      "execution_count": null,
      "outputs": [
        {
          "output_type": "stream",
          "text": [
            "[nltk_data] Downloading package punkt to /root/nltk_data...\n",
            "[nltk_data]   Package punkt is already up-to-date!\n",
            "[nltk_data] Downloading package stopwords to /root/nltk_data...\n",
            "[nltk_data]   Package stopwords is already up-to-date!\n",
            "[nltk_data] Downloading package wordnet to /root/nltk_data...\n",
            "[nltk_data]   Package wordnet is already up-to-date!\n"
          ],
          "name": "stdout"
        }
      ]
    },
    {
      "cell_type": "code",
      "metadata": {
        "id": "Y3CBRaD0xM7i"
      },
      "source": [
        "stop_words = set(stopwords.words('english'))\n",
        "\n",
        "def preprocess(rawtext):\n",
        "    ans = ''\n",
        "    for char in rawtext:\n",
        "        if char.isalpha() or char == ' ':\n",
        "            ans += char\n",
        "        else:\n",
        "            ans += ' '\n",
        "    words = nltk.word_tokenize(ans)\n",
        "    answer = []\n",
        "    for w in words:\n",
        "        w = lemmatizer.lemmatize(w.lower())\n",
        "        if w not in stop_words and len(w)>2:\n",
        "            answer.append(w.lower())\n",
        "    \n",
        "    return ' '.join(answer)"
      ],
      "execution_count": null,
      "outputs": []
    },
    {
      "cell_type": "code",
      "metadata": {
        "id": "Y-wmmrtdbudb"
      },
      "source": [
        "import pandas as pd\n",
        "\n",
        "def make_df(data, path_list, sent):\n",
        "    idx = data.shape[0]\n",
        "    for p, path in enumerate(path_list):\n",
        "        with open(path, \"r\", encoding=\"utf-8\") as w:\n",
        "            raw = w.read()\n",
        "        data.loc[idx, \"rewiev\"] = raw\n",
        "        data.loc[idx, \"sentiment\"] = sent\n",
        "        data.loc[idx, \"processed\"] = preprocess2(raw)\n",
        "        idx+=1"
      ],
      "execution_count": null,
      "outputs": []
    },
    {
      "cell_type": "code",
      "metadata": {
        "id": "UsedA9AKbFFq"
      },
      "source": [
        "import os\n",
        "\n",
        "\n",
        "def make_set(directories):\n",
        "    data = pd.DataFrame(data=None, columns=['rewiev', 'sentiment', 'processed'])\n",
        "    for directory in directories:\n",
        "        path_list = []\n",
        "        for root, dirs, files in os.walk(directory):\n",
        "            for file in files:\n",
        "                if file.endswith('.txt'):\n",
        "                    path_list += [root + \"/\" + file]\n",
        "        sent = directory.split('/')[-1]\n",
        "        if sent == 'neg':\n",
        "            make_df(data, path_list, 0)\n",
        "        else:\n",
        "            make_df(data, path_list, 1)\n",
        "    return data\n",
        "        "
      ],
      "execution_count": null,
      "outputs": []
    },
    {
      "cell_type": "code",
      "metadata": {
        "id": "DhGKE0P0776c"
      },
      "source": [
        "test = make_set([\"/content/aclImdb/test/neg\", \"/content/aclImdb/test/pos\"])"
      ],
      "execution_count": null,
      "outputs": []
    },
    {
      "cell_type": "code",
      "metadata": {
        "id": "t6nl-KAZ79gX"
      },
      "source": [
        "data = make_set([\"/content/aclImdb/train/neg\", \"/content/aclImdb/train/pos\"])"
      ],
      "execution_count": null,
      "outputs": []
    },
    {
      "cell_type": "code",
      "metadata": {
        "id": "43175pEtoU2z",
        "outputId": "7a979c6e-3395-4872-b3ff-89b1829ab1e2",
        "colab": {
          "base_uri": "https://localhost:8080/",
          "height": 359
        }
      },
      "source": [
        "data.head(10)"
      ],
      "execution_count": null,
      "outputs": [
        {
          "output_type": "execute_result",
          "data": {
            "text/html": [
              "<div>\n",
              "<style scoped>\n",
              "    .dataframe tbody tr th:only-of-type {\n",
              "        vertical-align: middle;\n",
              "    }\n",
              "\n",
              "    .dataframe tbody tr th {\n",
              "        vertical-align: top;\n",
              "    }\n",
              "\n",
              "    .dataframe thead th {\n",
              "        text-align: right;\n",
              "    }\n",
              "</style>\n",
              "<table border=\"1\" class=\"dataframe\">\n",
              "  <thead>\n",
              "    <tr style=\"text-align: right;\">\n",
              "      <th></th>\n",
              "      <th>rewiev</th>\n",
              "      <th>sentiment</th>\n",
              "      <th>processed</th>\n",
              "    </tr>\n",
              "  </thead>\n",
              "  <tbody>\n",
              "    <tr>\n",
              "      <th>0</th>\n",
              "      <td>Lynch. The man has some really great stuff! He...</td>\n",
              "      <td>0</td>\n",
              "      <td>lynch man really great stuff know disturb rewa...</td>\n",
              "    </tr>\n",
              "    <tr>\n",
              "      <th>1</th>\n",
              "      <td>When the folks at Kino Video assembled their f...</td>\n",
              "      <td>0</td>\n",
              "      <td>folk kino video assembled fine slapstick encyc...</td>\n",
              "    </tr>\n",
              "    <tr>\n",
              "      <th>2</th>\n",
              "      <td>Tom is listening to one of those old-time radi...</td>\n",
              "      <td>0</td>\n",
              "      <td>tom listening one old time radio broadcast som...</td>\n",
              "    </tr>\n",
              "    <tr>\n",
              "      <th>3</th>\n",
              "      <td>I really must watch a good movie soon, because...</td>\n",
              "      <td>0</td>\n",
              "      <td>really must watch good movie soon seems every ...</td>\n",
              "    </tr>\n",
              "    <tr>\n",
              "      <th>4</th>\n",
              "      <td>It was great to see some of my favorite stars ...</td>\n",
              "      <td>0</td>\n",
              "      <td>great see favorite star year ago including joh...</td>\n",
              "    </tr>\n",
              "    <tr>\n",
              "      <th>5</th>\n",
              "      <td>Despite the gravity of the subject and probabl...</td>\n",
              "      <td>0</td>\n",
              "      <td>despite gravity subject probably good intentio...</td>\n",
              "    </tr>\n",
              "    <tr>\n",
              "      <th>6</th>\n",
              "      <td>Even if this film was allegedly a joke in resp...</td>\n",
              "      <td>0</td>\n",
              "      <td>even film allegedly joke response critic still...</td>\n",
              "    </tr>\n",
              "    <tr>\n",
              "      <th>7</th>\n",
              "      <td>I can sit through this movie once, but I doubt...</td>\n",
              "      <td>0</td>\n",
              "      <td>sit movie doubt could make second time mildly ...</td>\n",
              "    </tr>\n",
              "    <tr>\n",
              "      <th>8</th>\n",
              "      <td>Mislead by the terrible lie on the cover, \"fun...</td>\n",
              "      <td>0</td>\n",
              "      <td>mislead terrible lie cover fun american pie gi...</td>\n",
              "    </tr>\n",
              "    <tr>\n",
              "      <th>9</th>\n",
              "      <td>Picture the scene where a bunch of scriptwrite...</td>\n",
              "      <td>0</td>\n",
              "      <td>picture scene bunch scriptwriter sit around ta...</td>\n",
              "    </tr>\n",
              "  </tbody>\n",
              "</table>\n",
              "</div>"
            ],
            "text/plain": [
              "                                              rewiev  ...                                          processed\n",
              "0  Lynch. The man has some really great stuff! He...  ...  lynch man really great stuff know disturb rewa...\n",
              "1  When the folks at Kino Video assembled their f...  ...  folk kino video assembled fine slapstick encyc...\n",
              "2  Tom is listening to one of those old-time radi...  ...  tom listening one old time radio broadcast som...\n",
              "3  I really must watch a good movie soon, because...  ...  really must watch good movie soon seems every ...\n",
              "4  It was great to see some of my favorite stars ...  ...  great see favorite star year ago including joh...\n",
              "5  Despite the gravity of the subject and probabl...  ...  despite gravity subject probably good intentio...\n",
              "6  Even if this film was allegedly a joke in resp...  ...  even film allegedly joke response critic still...\n",
              "7  I can sit through this movie once, but I doubt...  ...  sit movie doubt could make second time mildly ...\n",
              "8  Mislead by the terrible lie on the cover, \"fun...  ...  mislead terrible lie cover fun american pie gi...\n",
              "9  Picture the scene where a bunch of scriptwrite...  ...  picture scene bunch scriptwriter sit around ta...\n",
              "\n",
              "[10 rows x 3 columns]"
            ]
          },
          "metadata": {
            "tags": []
          },
          "execution_count": 98
        }
      ]
    },
    {
      "cell_type": "code",
      "metadata": {
        "id": "2Uhc1nCUzzDA",
        "outputId": "d760f69f-e718-4782-b70c-f3f0ef780221",
        "colab": {
          "base_uri": "https://localhost:8080/",
          "height": 34
        }
      },
      "source": [
        "cv=CountVectorizer(ngram_range=(1,4))\n",
        "cv_train=cv.fit_transform(data['processed'])\n",
        "print(cv_train.shape)"
      ],
      "execution_count": null,
      "outputs": [
        {
          "output_type": "stream",
          "text": [
            "(25000, 7291584)\n"
          ],
          "name": "stdout"
        }
      ]
    },
    {
      "cell_type": "code",
      "metadata": {
        "id": "IPaB8Q_F6q3I"
      },
      "source": [
        "train_target = data['sentiment']\n",
        "train_target = train_target.astype('int32')"
      ],
      "execution_count": null,
      "outputs": []
    },
    {
      "cell_type": "code",
      "metadata": {
        "id": "eiT678TS9daY"
      },
      "source": [
        "X_test = cv.transform(test['processed'])"
      ],
      "execution_count": null,
      "outputs": []
    },
    {
      "cell_type": "code",
      "metadata": {
        "id": "kW1w_Ms2068c"
      },
      "source": [
        "clf = LogisticRegression(max_iter=2000).fit(cv_train, train_target)"
      ],
      "execution_count": null,
      "outputs": []
    },
    {
      "cell_type": "code",
      "metadata": {
        "id": "22iCBqrh_GBk"
      },
      "source": [
        "test_target = test['sentiment']\n",
        "test_target = test_target.astype('int32')"
      ],
      "execution_count": null,
      "outputs": []
    },
    {
      "cell_type": "code",
      "metadata": {
        "id": "YMyGZzF8AV8F"
      },
      "source": [
        "predicted = clf.predict(X_test)"
      ],
      "execution_count": null,
      "outputs": []
    },
    {
      "cell_type": "code",
      "metadata": {
        "id": "Xwh0V15xG-lm",
        "outputId": "eb8f2873-c9fb-4090-d3b0-2be6a12f08c3",
        "colab": {
          "base_uri": "https://localhost:8080/",
          "height": 51
        }
      },
      "source": [
        "acc = accuracy_score(test_target, predicted)\n",
        "f = f1_score(test_target, predicted)\n",
        "p = precision_score(test_target, predicted)\n",
        "r = recall_score(test_target, predicted)\n",
        "print('accuracy={0:1.4f}'.format(acc))\n",
        "print('F={0:1.4f}, Precision={1:1.4f}, Recall={2:1.4f}'.format(f, p, r))"
      ],
      "execution_count": null,
      "outputs": [
        {
          "output_type": "stream",
          "text": [
            "accuracy=0.8841\n",
            "F=0.8842, Precision=0.8832, Recall=0.8853\n"
          ],
          "name": "stdout"
        }
      ]
    },
    {
      "cell_type": "code",
      "metadata": {
        "id": "f8uE-ylyHSik",
        "outputId": "08bbbcbe-90d8-4ad0-d09a-2b2fe1dded5d",
        "colab": {
          "base_uri": "https://localhost:8080/",
          "height": 279
        }
      },
      "source": [
        "y_true = np.array([0, 1, 1, 1, 0])\n",
        "y_predicted = np.array([0.1, 0.867, 0.2, 0.3, 0.25])\n",
        "fpr, tpr, thrhld = roc_curve(test_target, predicted)\n",
        "pyplot.plot(fpr, tpr, marker='.', label='Test')\n",
        "pyplot.xlabel('False Positive Rate')\n",
        "pyplot.ylabel('True Positive Rate')\n",
        "pyplot.legend()\n",
        "pyplot.show()"
      ],
      "execution_count": null,
      "outputs": [
        {
          "output_type": "display_data",
          "data": {
            "image/png": "[encoded data removed]",
            "text/plain": [
              "<Figure size 432x288 with 1 Axes>"
            ]
          },
          "metadata": {
            "tags": [],
            "needs_background": "light"
          }
        }
      ]
    },
    {
      "cell_type": "code",
      "metadata": {
        "id": "vkECzXTFHYf1",
        "outputId": "672db8ac-9a02-4697-f62f-39dcb456d969",
        "colab": {
          "base_uri": "https://localhost:8080/",
          "height": 34
        }
      },
      "source": [
        "print(roc_auc_score(test_target, predicted))"
      ],
      "execution_count": null,
      "outputs": [
        {
          "output_type": "stream",
          "text": [
            "0.88408\n"
          ],
          "name": "stdout"
        }
      ]
    },
    {
      "cell_type": "markdown",
      "metadata": {
        "id": "KKCBIhReKF0L"
      },
      "source": [
        "Используя предсказания вероятностей класса, найдите 15 самых негативных и самых позитивных рецензий по мнению модели.  - 3 балла\n",
        "\n"
      ]
    },
    {
      "cell_type": "code",
      "metadata": {
        "id": "Eg537QimiYoG"
      },
      "source": [
        "g=clf.predict_proba(X_test)\n",
        "d = {}\n",
        "for i,j in enumerate(g):\n",
        "    d[i]=j"
      ],
      "execution_count": null,
      "outputs": []
    },
    {
      "cell_type": "code",
      "metadata": {
        "id": "kcMgTjLfl2iB"
      },
      "source": [
        "sorted_d = sorted(d.items(), key=lambda x: x[1][0])"
      ],
      "execution_count": null,
      "outputs": []
    },
    {
      "cell_type": "code",
      "metadata": {
        "id": "JNXjHlkuJ2WP",
        "outputId": "f1a3aa2a-ca58-41e2-857e-49de6bc4d265",
        "colab": {
          "base_uri": "https://localhost:8080/",
          "height": 514
        }
      },
      "source": [
        "pd.DataFrame([list(test['rewiev'][j] for j in list(i[0] for i in sorted_d[:15]))] , index = ['positive rewiev']).T"
      ],
      "execution_count": null,
      "outputs": [
        {
          "output_type": "execute_result",
          "data": {
            "text/html": [
              "<div>\n",
              "<style scoped>\n",
              "    .dataframe tbody tr th:only-of-type {\n",
              "        vertical-align: middle;\n",
              "    }\n",
              "\n",
              "    .dataframe tbody tr th {\n",
              "        vertical-align: top;\n",
              "    }\n",
              "\n",
              "    .dataframe thead th {\n",
              "        text-align: right;\n",
              "    }\n",
              "</style>\n",
              "<table border=\"1\" class=\"dataframe\">\n",
              "  <thead>\n",
              "    <tr style=\"text-align: right;\">\n",
              "      <th></th>\n",
              "      <th>positive rewiev</th>\n",
              "    </tr>\n",
              "  </thead>\n",
              "  <tbody>\n",
              "    <tr>\n",
              "      <th>0</th>\n",
              "      <td>This is a great German slasher, that's often q...</td>\n",
              "    </tr>\n",
              "    <tr>\n",
              "      <th>1</th>\n",
              "      <td>This is actually great fun. I really enjoyed i...</td>\n",
              "    </tr>\n",
              "    <tr>\n",
              "      <th>2</th>\n",
              "      <td>This is one of Bruce's most underrated films i...</td>\n",
              "    </tr>\n",
              "    <tr>\n",
              "      <th>3</th>\n",
              "      <td>Universal Studios version of \"Flipper\" (1996) ...</td>\n",
              "    </tr>\n",
              "    <tr>\n",
              "      <th>4</th>\n",
              "      <td>This is a surprisingly great low budget Horror...</td>\n",
              "    </tr>\n",
              "    <tr>\n",
              "      <th>5</th>\n",
              "      <td>1904. The North African nation of Morocco is h...</td>\n",
              "    </tr>\n",
              "    <tr>\n",
              "      <th>6</th>\n",
              "      <td>This is a solid underrated little thriller, th...</td>\n",
              "    </tr>\n",
              "    <tr>\n",
              "      <th>7</th>\n",
              "      <td>Tony Hawk's Pro Skater 2x, isn't much differen...</td>\n",
              "    </tr>\n",
              "    <tr>\n",
              "      <th>8</th>\n",
              "      <td>I remember really liking BATMAN RETURNS when i...</td>\n",
              "    </tr>\n",
              "    <tr>\n",
              "      <th>9</th>\n",
              "      <td>Hayao Miyazaki's latest and eighth film for St...</td>\n",
              "    </tr>\n",
              "    <tr>\n",
              "      <th>10</th>\n",
              "      <td>This comment discusses \"North and South Book I...</td>\n",
              "    </tr>\n",
              "    <tr>\n",
              "      <th>11</th>\n",
              "      <td>A fabulous film,which I have now watched sever...</td>\n",
              "    </tr>\n",
              "    <tr>\n",
              "      <th>12</th>\n",
              "      <td>Many years ago I saw this movie (on television...</td>\n",
              "    </tr>\n",
              "    <tr>\n",
              "      <th>13</th>\n",
              "      <td>Films belonging to the \"film noir\" genre usual...</td>\n",
              "    </tr>\n",
              "    <tr>\n",
              "      <th>14</th>\n",
              "      <td>Director Mikhail Kalatozov's film The Cranes a...</td>\n",
              "    </tr>\n",
              "  </tbody>\n",
              "</table>\n",
              "</div>"
            ],
            "text/plain": [
              "                                      positive rewiev\n",
              "0   This is a great German slasher, that's often q...\n",
              "1   This is actually great fun. I really enjoyed i...\n",
              "2   This is one of Bruce's most underrated films i...\n",
              "3   Universal Studios version of \"Flipper\" (1996) ...\n",
              "4   This is a surprisingly great low budget Horror...\n",
              "5   1904. The North African nation of Morocco is h...\n",
              "6   This is a solid underrated little thriller, th...\n",
              "7   Tony Hawk's Pro Skater 2x, isn't much differen...\n",
              "8   I remember really liking BATMAN RETURNS when i...\n",
              "9   Hayao Miyazaki's latest and eighth film for St...\n",
              "10  This comment discusses \"North and South Book I...\n",
              "11  A fabulous film,which I have now watched sever...\n",
              "12  Many years ago I saw this movie (on television...\n",
              "13  Films belonging to the \"film noir\" genre usual...\n",
              "14  Director Mikhail Kalatozov's film The Cranes a..."
            ]
          },
          "metadata": {
            "tags": []
          },
          "execution_count": 199
        }
      ]
    },
    {
      "cell_type": "code",
      "metadata": {
        "id": "kVGPalk-Jes9",
        "outputId": "c24232ae-53c5-41f3-9fcc-196474931dfd",
        "colab": {
          "base_uri": "https://localhost:8080/",
          "height": 514
        }
      },
      "source": [
        "pd.DataFrame([list(test['rewiev'][j] for j in list(i[0] for i in sorted_d[-15:]))] , index = ['negative rewiev']).T"
      ],
      "execution_count": null,
      "outputs": [
        {
          "output_type": "execute_result",
          "data": {
            "text/html": [
              "<div>\n",
              "<style scoped>\n",
              "    .dataframe tbody tr th:only-of-type {\n",
              "        vertical-align: middle;\n",
              "    }\n",
              "\n",
              "    .dataframe tbody tr th {\n",
              "        vertical-align: top;\n",
              "    }\n",
              "\n",
              "    .dataframe thead th {\n",
              "        text-align: right;\n",
              "    }\n",
              "</style>\n",
              "<table border=\"1\" class=\"dataframe\">\n",
              "  <thead>\n",
              "    <tr style=\"text-align: right;\">\n",
              "      <th></th>\n",
              "      <th>negative rewiev</th>\n",
              "    </tr>\n",
              "  </thead>\n",
              "  <tbody>\n",
              "    <tr>\n",
              "      <th>0</th>\n",
              "      <td>Interferencia starts as unemployed Martin Sand...</td>\n",
              "    </tr>\n",
              "    <tr>\n",
              "      <th>1</th>\n",
              "      <td>SPOILERS: The original Road House is one of th...</td>\n",
              "    </tr>\n",
              "    <tr>\n",
              "      <th>2</th>\n",
              "      <td>The Bone Collector is set in New York City &amp; s...</td>\n",
              "    </tr>\n",
              "    <tr>\n",
              "      <th>3</th>\n",
              "      <td>A space ship cruising through the galaxy encou...</td>\n",
              "    </tr>\n",
              "    <tr>\n",
              "      <th>4</th>\n",
              "      <td>...the first? Killjoy 1. But here's the review...</td>\n",
              "    </tr>\n",
              "    <tr>\n",
              "      <th>5</th>\n",
              "      <td>Plankton, or Creatures from the Abyss as I'm p...</td>\n",
              "    </tr>\n",
              "    <tr>\n",
              "      <th>6</th>\n",
              "      <td>I watched the 219 minute version and have to s...</td>\n",
              "    </tr>\n",
              "    <tr>\n",
              "      <th>7</th>\n",
              "      <td>The review on the main page admits that the mo...</td>\n",
              "    </tr>\n",
              "    <tr>\n",
              "      <th>8</th>\n",
              "      <td>Komodo vs. Cobra starts as 'One Planet' enviro...</td>\n",
              "    </tr>\n",
              "    <tr>\n",
              "      <th>9</th>\n",
              "      <td>Rose  Does anything actually happen in this e...</td>\n",
              "    </tr>\n",
              "    <tr>\n",
              "      <th>10</th>\n",
              "      <td>Snake Island is one of those films that, whils...</td>\n",
              "    </tr>\n",
              "    <tr>\n",
              "      <th>11</th>\n",
              "      <td>Curse of the Wolf starts as reluctant Werewolf...</td>\n",
              "    </tr>\n",
              "    <tr>\n",
              "      <th>12</th>\n",
              "      <td>I remember seeing the very first trailer for U...</td>\n",
              "    </tr>\n",
              "    <tr>\n",
              "      <th>13</th>\n",
              "      <td>All I could think while watching this movie wa...</td>\n",
              "    </tr>\n",
              "    <tr>\n",
              "      <th>14</th>\n",
              "      <td>Okay wait let me get this street, there are ac...</td>\n",
              "    </tr>\n",
              "  </tbody>\n",
              "</table>\n",
              "</div>"
            ],
            "text/plain": [
              "                                      negative rewiev\n",
              "0   Interferencia starts as unemployed Martin Sand...\n",
              "1   SPOILERS: The original Road House is one of th...\n",
              "2   The Bone Collector is set in New York City & s...\n",
              "3   A space ship cruising through the galaxy encou...\n",
              "4   ...the first? Killjoy 1. But here's the review...\n",
              "5   Plankton, or Creatures from the Abyss as I'm p...\n",
              "6   I watched the 219 minute version and have to s...\n",
              "7   The review on the main page admits that the mo...\n",
              "8   Komodo vs. Cobra starts as 'One Planet' enviro...\n",
              "9   Rose  Does anything actually happen in this e...\n",
              "10  Snake Island is one of those films that, whils...\n",
              "11  Curse of the Wolf starts as reluctant Werewolf...\n",
              "12  I remember seeing the very first trailer for U...\n",
              "13  All I could think while watching this movie wa...\n",
              "14  Okay wait let me get this street, there are ac..."
            ]
          },
          "metadata": {
            "tags": []
          },
          "execution_count": 200
        }
      ]
    },
    {
      "cell_type": "markdown",
      "metadata": {
        "id": "5DAt_27ZiVdx"
      },
      "source": [
        "Написать свои функции, которые бы считали tp, fp, tn, fn, и возвращали точность, полноту и ф-меру и применить их к результатам, полученным вашими классификаторами (если все сделано правильно, то результаты должны совпадать с полученными  sklearn метриками). - 3 балла"
      ]
    },
    {
      "cell_type": "code",
      "metadata": {
        "id": "F8irbXA9JkQ3"
      },
      "source": [
        "def classification(test_target, pred):\n",
        "    comp = pd.DataFrame([test_target, pred], index=['targ','pred']).T\n",
        "    TP = comp[(comp.targ==1)&(comp.pred==1)].shape[0]\n",
        "    TN = comp[(comp.targ==0)&(comp.pred==0)].shape[0]\n",
        "    FP = comp[(comp.targ==0)&(comp.pred==1)].shape[0]\n",
        "    FN = comp[(comp.targ==1)&(comp.pred==0)].shape[0]\n",
        "    return(TP, TN, FP, FN)"
      ],
      "execution_count": null,
      "outputs": []
    },
    {
      "cell_type": "code",
      "metadata": {
        "id": "Os31BdPBZAxH"
      },
      "source": [
        "TP, TN, FP, FN = classification(test_target, predicted)"
      ],
      "execution_count": null,
      "outputs": []
    },
    {
      "cell_type": "code",
      "metadata": {
        "id": "Vnpb_bzfUB9y",
        "outputId": "7d649c22-03de-404a-a2f0-07f76256de74",
        "colab": {
          "base_uri": "https://localhost:8080/",
          "height": 51
        }
      },
      "source": [
        "acc1 = (TP+TN)/(TP+FP+FN+TN)\n",
        "p1 = (TP)/(TP+FP)\n",
        "r1 = (TP)/(TP+FN)\n",
        "f1 = 2*p1*r1/(p1+r1)\n",
        "print('accuracy={0:1.4f}'.format(acc1))\n",
        "print('F={0:1.4f}, Precision={1:1.4f}, Recall={2:1.4f}'.format(f1, p1, r1))"
      ],
      "execution_count": null,
      "outputs": [
        {
          "output_type": "stream",
          "text": [
            "accuracy=0.8841\n",
            "F=0.8842, Precision=0.8832, Recall=0.8853\n"
          ],
          "name": "stdout"
        }
      ]
    },
    {
      "cell_type": "code",
      "metadata": {
        "id": "ozOFwdfZOPH5",
        "outputId": "fe65ba3a-033f-4ee5-9335-3a8c88bd4f6e",
        "colab": {
          "base_uri": "https://localhost:8080/",
          "height": 34
        }
      },
      "source": [
        "(acc==acc1)&(p==p1)&(r==r1)&(f==f1)"
      ],
      "execution_count": null,
      "outputs": [
        {
          "output_type": "execute_result",
          "data": {
            "text/plain": [
              "True"
            ]
          },
          "metadata": {
            "tags": []
          },
          "execution_count": 178
        }
      ]
    }
  ]
}