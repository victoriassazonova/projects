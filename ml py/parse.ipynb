{
 "cells": [
  {
   "cell_type": "markdown",
   "metadata": {
    "colab_type": "text",
    "id": "QIbJtFysb2JA"
   },
   "source": [
    "Часть 1\n"
   ]
  },
  {
   "cell_type": "code",
   "execution_count": 5,
   "metadata": {
    "colab": {},
    "colab_type": "code",
    "id": "ge67xDBub4yw"
   },
   "outputs": [],
   "source": [
    "import bs4\n",
    "from bs4 import BeautifulSoup\n",
    "import urllib.request\n",
    "import re\n",
    "import collections\n",
    "from typing import List, Dict, Union, Any, Generator\n",
    "import random\n",
    "import requests\n",
    "import time\n",
    "import pytz\n",
    "from datetime import datetime, tzinfo"
   ]
  },
  {
   "cell_type": "code",
   "execution_count": 46,
   "metadata": {},
   "outputs": [],
   "source": [
    "#функция для скачивания (сама по себе не выполнение никакого из заданий)\n",
    "def download() -> List[Dict[str, Any]]:\n",
    "    user_agent = 'Mozilla/5.0 (Macintosh; Intel Mac OS X 10.9; rv:45.0) Gecko/20100101 Firefox/45.0' \n",
    "    results = []\n",
    "    w = []\n",
    "    for p in range(3):\n",
    "        url = 'https://www.kinopoisk.ru/top/lists/1/filtr/all/perpage/200/page/%s/' % (p+1) \n",
    "        req = urllib.request.Request(url, headers={'User-Agent':user_agent}) \n",
    "        if p==0:\n",
    "            now = datetime.now()\n",
    "            f_time1 = datetime.strftime(datetime.now(), \"%Y.%m.%d %H:%M:%S\")\n",
    "        if p==1:\n",
    "            now = datetime.now()\n",
    "            f_time2 = datetime.strftime(datetime.now(), \"%Y.%m.%d %H:%M:%S\")\n",
    "        if p==2:\n",
    "            now = datetime.now()\n",
    "            f_time3 = datetime.strftime(datetime.now(), \"%Y.%m.%d %H:%M:%S\")\n",
    "        with urllib.request.urlopen(req) as response:\n",
    "            html = response.read().decode('utf-8')\n",
    "            soup = BeautifulSoup(html)\n",
    "            items = soup.find_all('tr', {'class': 'js-film-list-item'})\n",
    "            for item in items:\n",
    "                w.append(item)\n",
    "            time.sleep(0.5)\n",
    "    results = []\n",
    "    for item in w:\n",
    "        try:\n",
    "            movie_name = item.find('a', {'class': 'all'}).text\n",
    "        except:\n",
    "            movie_name = ''\n",
    "        try:\n",
    "            movie_link = item.find('a', {'class': 'all'}).get('href')\n",
    "            movie_link = \"https://www.kinopoisk.ru\" + movie_link\n",
    "        except:\n",
    "            movie_link = ''\n",
    "        try:\n",
    "            kp_rating = float(item.find(style=\"color: #f60; font-family: arial; position: absolute; margin: 51px 0 0 118px\").text)\n",
    "        except:\n",
    "            kp_rating = ''\n",
    "        try:\n",
    "            imdb_rating = item(text=re.compile('IMDb:'))[0]\n",
    "            imdb_rating = float(imdb_rating.split()[1])\n",
    "        except:\n",
    "            imdb_rating = ''\n",
    "        try:\n",
    "            year = item.find(style=\"color: #888; font-family: arial; font-size: 11px; display: block\").text #лишнее\n",
    "            year = year.split('(')[1]\n",
    "            year = int(year.split(')')[0])\n",
    "        except:\n",
    "            year = ''\n",
    "        if len(results)>=400:\n",
    "            results.append({\n",
    "                    'name': movie_name,\n",
    "                    'url':  movie_link,\n",
    "                    'kp_rating': kp_rating,\n",
    "                    'imdb_rating': imdb_rating,\n",
    "                    'year': year,\n",
    "                    'utctimestamp':f_time3\n",
    "                        })   \n",
    "        if len(results)>=200 and len(results)<400: \n",
    "            results.append({\n",
    "                    'name': movie_name,\n",
    "                    'url':  movie_link,\n",
    "                    'kp_rating': kp_rating,\n",
    "                    'imdb_rating': imdb_rating,\n",
    "                    'year': year,\n",
    "                    'utctimestamp':f_time2\n",
    "                        })\n",
    "        if len(results)<200:\n",
    "            results.append({\n",
    "                    'name': movie_name,\n",
    "                    'url':  movie_link,\n",
    "                    'kp_rating': kp_rating,\n",
    "                    'imdb_rating': imdb_rating,\n",
    "                    'year': year,\n",
    "                    'utctimestamp':f_time1\n",
    "                        })\n",
    "    return results"
   ]
  },
  {
   "cell_type": "code",
   "execution_count": 13,
   "metadata": {
    "colab": {},
    "colab_type": "code",
    "id": "ADVnisX6Fz7Z"
   },
   "outputs": [],
   "source": [
    "#1 задание\n",
    "def one_one() -> Generator[Dict[str, Any], None, None]:\n",
    "    results = download()\n",
    "    return (res for res in results)"
   ]
  },
  {
   "cell_type": "code",
   "execution_count": 14,
   "metadata": {
    "colab": {
     "base_uri": "https://localhost:8080/",
     "height": 136
    },
    "colab_type": "code",
    "id": "BQ-nXLYue5gT",
    "outputId": "c84e6c47-63ed-4cfc-b984-b963d77c9a1b"
   },
   "outputs": [],
   "source": [
    "top500 = one_one()"
   ]
  },
  {
   "cell_type": "code",
   "execution_count": 15,
   "metadata": {},
   "outputs": [
    {
     "data": {
      "text/plain": [
       "generator"
      ]
     },
     "execution_count": 15,
     "metadata": {},
     "output_type": "execute_result"
    }
   ],
   "source": [
    "type(top500)"
   ]
  },
  {
   "cell_type": "code",
   "execution_count": 43,
   "metadata": {
    "colab": {},
    "colab_type": "code",
    "id": "CyYCryoFOpo_"
   },
   "outputs": [],
   "source": [
    "#2 задание\n",
    "def one_two(number:int,\n",
    "            t:Union[int, float]) -> Generator[Dict[str, Any], None, None]:\n",
    "    if number <1 and number>500:\n",
    "        raise ValueError('Wrong number argument, needs to be in range[1,500]')\n",
    "    if t <=0: \n",
    "        raise ValueError('Wrong t argument, needs to be > 0')\n",
    "    user_agent = 'Mozilla/5.0 (Macintosh; Intel Mac OS X 10.9; rv:45.0) Gecko/20100101 Firefox/45.0' \n",
    "    results = []\n",
    "    w = []\n",
    "    url = 'https://www.kinopoisk.ru/top/lists/1/filtr/all/perpage/200/page/1/'\n",
    "    req = urllib.request.Request(url, headers={'User-Agent':user_agent})  \n",
    "    now = datetime.now()\n",
    "    f_time1 = datetime.strftime(datetime.now(), \"%Y.%m.%d %H:%M:%S\")\n",
    "    with urllib.request.urlopen(req) as response:\n",
    "        html = response.read().decode('utf-8')\n",
    "        soup = BeautifulSoup(html)\n",
    "        items = soup.find_all('tr', {'class': 'js-film-list-item'})\n",
    "        for item in items:\n",
    "            if len(w)<number:\n",
    "                w.append(item) \n",
    "    if number>200:\n",
    "        time.sleep(t)\n",
    "        url = 'https://www.kinopoisk.ru/top/lists/1/filtr/all/perpage/200/page/2/'\n",
    "        req = urllib.request.Request(url, headers={'User-Agent':user_agent}) \n",
    "        now = datetime.now()\n",
    "        f_time2 = datetime.strftime(datetime.now(), \"%Y.%m.%d %H:%M:%S\")\n",
    "        with urllib.request.urlopen(req) as response:\n",
    "            html = response.read().decode('utf-8')\n",
    "            soup = BeautifulSoup(html)\n",
    "            items = soup.find_all('tr', {'class': 'js-film-list-item'})\n",
    "            for item in items:\n",
    "                if len(w)<number:\n",
    "                    w.append(item) \n",
    "    if number>400:\n",
    "        time.sleep(t)\n",
    "        url = 'https://www.kinopoisk.ru/top/lists/1/filtr/all/perpage/200/page/3/'\n",
    "        req = urllib.request.Request(url, headers={'User-Agent':user_agent}) \n",
    "        now = datetime.now()\n",
    "        f_time3 = datetime.strftime(datetime.now(), \"%Y.%m.%d %H:%M:%S\")\n",
    "        with urllib.request.urlopen(req) as response:\n",
    "            html = response.read().decode('utf-8')\n",
    "            soup = BeautifulSoup(html)\n",
    "            items = soup.find_all('tr', {'class': 'js-film-list-item'})\n",
    "            for item in items:\n",
    "                if len(w)<number:\n",
    "                    w.append(item) \n",
    "    results = []\n",
    "    for item in w:\n",
    "        try:\n",
    "            movie_name = item.find('a', {'class': 'all'}).text\n",
    "        except:\n",
    "            movie_name = ''\n",
    "        try:\n",
    "            movie_link = item.find('a', {'class': 'all'}).get('href')\n",
    "            movie_link = \"https://www.kinopoisk.ru\" + movie_link\n",
    "        except:\n",
    "            movie_link = ''\n",
    "        try:\n",
    "            kp_rating = float(item.find(style=\"color: #f60; font-family: arial; position: absolute; margin: 51px 0 0 118px\").text)\n",
    "        except:\n",
    "            kp_rating = ''\n",
    "        try:\n",
    "            imdb_rating = item(text=re.compile('IMDb:'))[0]\n",
    "            imdb_rating = float(imdb_rating.split()[1])\n",
    "        except:\n",
    "            imdb_rating = ''\n",
    "        try:\n",
    "            year = item.find(style=\"color: #888; font-family: arial; font-size: 11px; display: block\").text\n",
    "            year = year.split('(')[1]\n",
    "            year = int(year.split(')')[0])\n",
    "        except:\n",
    "            year = ''    \n",
    "        if len(results)>=400:\n",
    "            results.append({\n",
    "                    'name': movie_name,\n",
    "                    'url':  movie_link,\n",
    "                    'kp_rating': kp_rating,\n",
    "                    'imdb_rating': imdb_rating,\n",
    "                    'year': year,\n",
    "                    'utctimestamp':f_time3\n",
    "                        })   \n",
    "        if len(results)>=200 and len(results)<400: \n",
    "            results.append({\n",
    "                    'name': movie_name,\n",
    "                    'url':  movie_link,\n",
    "                    'kp_rating': kp_rating,\n",
    "                    'imdb_rating': imdb_rating,\n",
    "                    'year': year,\n",
    "                    'utctimestamp':f_time2\n",
    "                        })\n",
    "        if len(results)<200:\n",
    "            results.append({\n",
    "                    'name': movie_name,\n",
    "                    'url':  movie_link,\n",
    "                    'kp_rating': kp_rating,\n",
    "                    'imdb_rating': imdb_rating,\n",
    "                    'year': year,\n",
    "                    'utctimestamp':f_time1\n",
    "                        })\n",
    "    return (res for res in results)"
   ]
  },
  {
   "cell_type": "code",
   "execution_count": 44,
   "metadata": {},
   "outputs": [],
   "source": [
    "custom_top=one_two(210,10)"
   ]
  },
  {
   "cell_type": "code",
   "execution_count": 26,
   "metadata": {},
   "outputs": [
    {
     "data": {
      "text/plain": [
       "generator"
      ]
     },
     "execution_count": 26,
     "metadata": {},
     "output_type": "execute_result"
    }
   ],
   "source": [
    "type(custom_top)"
   ]
  },
  {
   "cell_type": "markdown",
   "metadata": {},
   "source": [
    "Дальше я один раз скачиваю результаты в виде списка словарей, чтобы на них прогнать задания 3, 4 и 5"
   ]
  },
  {
   "cell_type": "code",
   "execution_count": 47,
   "metadata": {},
   "outputs": [],
   "source": [
    "results = download()"
   ]
  },
  {
   "cell_type": "code",
   "execution_count": 48,
   "metadata": {
    "colab": {},
    "colab_type": "code",
    "id": "gMQcpfNJOvMc"
   },
   "outputs": [],
   "source": [
    "#3 задание\n",
    "def one_three(r:List[Dict[str, Any]]) -> List[Dict[str, Any]]:\n",
    "    return sorted(r, key = lambda r: r['imdb_rating'], reverse=True)"
   ]
  },
  {
   "cell_type": "code",
   "execution_count": 49,
   "metadata": {},
   "outputs": [
    {
     "data": {
      "text/plain": [
       "[{'name': 'Побег из Шоушенка',\n",
       "  'url': 'https://www.kinopoisk.ru/film/326/',\n",
       "  'kp_rating': 9.19,\n",
       "  'imdb_rating': 9.3,\n",
       "  'year': 1994,\n",
       "  'utctimestamp': '2019.12.21 18:52:08'},\n",
       " {'name': 'Крестный отец',\n",
       "  'url': 'https://www.kinopoisk.ru/film/325/',\n",
       "  'kp_rating': 8.633,\n",
       "  'imdb_rating': 9.2,\n",
       "  'year': 1972,\n",
       "  'utctimestamp': '2019.12.21 18:52:08'},\n",
       " {'name': 'Темный рыцарь',\n",
       "  'url': 'https://www.kinopoisk.ru/film/111543/',\n",
       "  'kp_rating': 8.465,\n",
       "  'imdb_rating': 9.0,\n",
       "  'year': 2008,\n",
       "  'utctimestamp': '2019.12.21 18:52:08'}]"
      ]
     },
     "execution_count": 49,
     "metadata": {},
     "output_type": "execute_result"
    }
   ],
   "source": [
    "one_three(results)[:3]"
   ]
  },
  {
   "cell_type": "code",
   "execution_count": 50,
   "metadata": {
    "colab": {},
    "colab_type": "code",
    "id": "mDK2wq1RO4wf"
   },
   "outputs": [],
   "source": [
    "#4 задание\n",
    "def one_four(results:List[Dict[str, Any]]) -> List[Dict[str, Any]]:\n",
    "    a = []\n",
    "    for i in results:\n",
    "        a.append(i['year']) \n",
    "    cnt = collections.Counter()\n",
    "    for word in a:\n",
    "         cnt[word] += 1\n",
    "    return cnt"
   ]
  },
  {
   "cell_type": "code",
   "execution_count": 51,
   "metadata": {},
   "outputs": [
    {
     "name": "stdout",
     "output_type": "stream",
     "text": [
      "1921\n",
      "2019\n",
      "2004\n"
     ]
    }
   ],
   "source": [
    "c=one_four(results)\n",
    "print(min(c))\n",
    "print(max(c))\n",
    "print(c.most_common(1)[0][0])"
   ]
  },
  {
   "cell_type": "code",
   "execution_count": 52,
   "metadata": {
    "colab": {},
    "colab_type": "code",
    "id": "Os6vPHygO8TT"
   },
   "outputs": [],
   "source": [
    "#5 задание\n",
    "import csv\n",
    "import json\n",
    "def one_five(my_list:List[Dict[str, Any]],\n",
    "             path: str, \n",
    "             filetype: str,\n",
    "             order_by: Union[None, str] = None, \n",
    "             ascending: bool = True) -> None:\n",
    "    #я прописала type errors и мне жалко их удалять\n",
    "    #проверка на допустимость файлтайпа еще есть в конце, а проверка на order_by там, где сортировка\n",
    "    if type(my_list)!=list:\n",
    "        raise TypeError('Wrong my_list argument, needs to be list and not', type(my_list))\n",
    "    if type(path)!=str:\n",
    "        raise TypeError('Wrong path argument, needs to be str and not', type(path))\n",
    "    if type(filetype)!=str:\n",
    "        raise TypeError('Wrong filetype argument, needs to be str and not', type(filetype))\n",
    "    if type(order_by)!=str and order_by!=None:\n",
    "        raise TypeError('Wrong order_by argument, needs to be str or None and not', type(order_by))\n",
    "    if type(ascending)!=bool:\n",
    "        raise TypeError('Wrong ascending argument, needs to be list and not', type(ascending))\n",
    "    try:\n",
    "        sort_list = sorted(my_list, key = lambda my_list: my_list[order_by], reverse=ascending)\n",
    "    except:\n",
    "        raise TypeError('No such order_by parametr in list')\n",
    "    if filetype == 'csv':\n",
    "        with open(path, 'w', newline='') as csvfile:\n",
    "            fieldnames = ['movie_name', 'movie_link','kp_rating','imdb_rating','year','utctimestamp']\n",
    "            writer = csv.DictWriter(csvfile, fieldnames=fieldnames)\n",
    "            writer.writeheader()\n",
    "            for i in sort_list:\n",
    "                writer.writerow(i)\n",
    "    if filetype == 'tsv':\n",
    "        with open(path, 'w', newline='') as tsvfile:\n",
    "            fieldnames = ['movie_name', 'movie_link','kp_rating','imdb_rating','year','utctimestamp']\n",
    "            writer = csv.DictWriter(tsvfile, delimiter='\\t', fieldnames=fieldnames)\n",
    "            writer.writeheader()\n",
    "            for i in sort_list:\n",
    "                writer.writerow(i)\n",
    "    if filetype == 'json':\n",
    "        with open(path, 'w', encoding=\"utf-8\") as jfile:\n",
    "            json.dump(sort_list , jfile, ensure_ascii=False)\n",
    "    if filetype == 'jsonl':\n",
    "        with open(path, 'w', encoding=\"utf-8\") as jlfile:\n",
    "            for s in sort_list:\n",
    "                json.dump(s , jlfile, ensure_ascii=False)\n",
    "                jlfile.write('\\n')\n",
    "    if filetype != 'tsv' and filetype != 'csv' and filetype != 'jsonl' and filetype != 'json':\n",
    "        raise TypeError('Not supported filetype, only csv, tsv, json or jsonl') "
   ]
  },
  {
   "cell_type": "code",
   "execution_count": 57,
   "metadata": {},
   "outputs": [],
   "source": [
    "one_five(results,'myfile.jsonl', filetype='jsonl', order_by='imdb_rating', ascending= True)"
   ]
  },
  {
   "cell_type": "markdown",
   "metadata": {
    "colab_type": "text",
    "id": "8B7en9Mab5Wm"
   },
   "source": [
    "Часть 2"
   ]
  },
  {
   "cell_type": "code",
   "execution_count": 58,
   "metadata": {
    "colab": {
     "base_uri": "https://localhost:8080/",
     "height": 34
    },
    "colab_type": "code",
    "id": "XD_LtPZWdHI6",
    "outputId": "a9eb9acb-d1d9-47d0-dea2-0cdf77fa2bff"
   },
   "outputs": [],
   "source": [
    "#2.2\n",
    "def rand_ip() -> str:\n",
    "  ip = '.'.join('%s'%random.randint(0, 255) for i in range(4))\n",
    "  return ip"
   ]
  },
  {
   "cell_type": "code",
   "execution_count": 59,
   "metadata": {},
   "outputs": [
    {
     "data": {
      "text/plain": [
       "'221.105.8.33'"
      ]
     },
     "execution_count": 59,
     "metadata": {},
     "output_type": "execute_result"
    }
   ],
   "source": [
    "rand_ip()"
   ]
  },
  {
   "cell_type": "code",
   "execution_count": 60,
   "metadata": {
    "colab": {},
    "colab_type": "code",
    "id": "2z2vUFWwdO45"
   },
   "outputs": [],
   "source": [
    "#2.3\n",
    "def gen_list(count:int) -> List[str]:  \n",
    "    ip_list = []\n",
    "    c=0\n",
    "    while c < count:\n",
    "        this_ip = rand_ip()\n",
    "        if this_ip not in ip_list:\n",
    "            ip_list.append(this_ip)\n",
    "            c+=1\n",
    "    return ip_list"
   ]
  },
  {
   "cell_type": "code",
   "execution_count": 61,
   "metadata": {},
   "outputs": [],
   "source": [
    "my_list = gen_list(100)"
   ]
  },
  {
   "cell_type": "code",
   "execution_count": 62,
   "metadata": {
    "colab": {
     "base_uri": "https://localhost:8080/",
     "height": 1000
    },
    "colab_type": "code",
    "id": "kIxQmb_MfAQv",
    "outputId": "d73dff33-f468-4860-e223-9bc10050fdcd"
   },
   "outputs": [],
   "source": [
    "#2.4\n",
    "def two_four(list:List[str]) -> List[str]:\n",
    "  zones = []\n",
    "  for i in list:\n",
    "    url = \"https://freegeoip.app/json/%s\" % i\n",
    "    headers = {\n",
    "          'accept': \"application/json\",\n",
    "          'content-type': \"application/json\"\n",
    "        }\n",
    "    r = random.uniform(0.5, 1)\n",
    "    time.sleep(r)\n",
    "    response = requests.request(\"GET\", url, headers=headers)\n",
    "    g = response.json()\n",
    "    if g['time_zone'] != '':\n",
    "      if g['time_zone'] not in zones:\n",
    "          zones.append(g['time_zone'])\n",
    "  return zones"
   ]
  },
  {
   "cell_type": "code",
   "execution_count": 63,
   "metadata": {},
   "outputs": [
    {
     "data": {
      "text/plain": [
       "['America/Toronto',\n",
       " 'Europe/Berlin',\n",
       " 'America/Chicago',\n",
       " 'Europe/London',\n",
       " 'Europe/Paris',\n",
       " 'Europe/Budapest',\n",
       " 'America/New_York',\n",
       " 'Asia/Shanghai',\n",
       " 'Asia/Tokyo',\n",
       " 'Europe/Rome',\n",
       " 'Europe/Amsterdam',\n",
       " 'Australia/Sydney',\n",
       " 'Asia/Seoul',\n",
       " 'Asia/Yekaterinburg',\n",
       " 'Europe/Madrid',\n",
       " 'America/Los_Angeles',\n",
       " 'Asia/Jakarta',\n",
       " 'America/Mexico_City',\n",
       " 'Africa/Johannesburg',\n",
       " 'Europe/Istanbul',\n",
       " 'Pacific/Honolulu',\n",
       " 'America/Edmonton',\n",
       " 'Asia/Manila',\n",
       " 'America/Bogota',\n",
       " 'Asia/Riyadh',\n",
       " 'Europe/Zurich',\n",
       " 'Africa/Casablanca',\n",
       " 'Asia/Ho_Chi_Minh']"
      ]
     },
     "execution_count": 63,
     "metadata": {},
     "output_type": "execute_result"
    }
   ],
   "source": [
    "zones = two_four(my_list)\n",
    "zones"
   ]
  },
  {
   "cell_type": "code",
   "execution_count": 64,
   "metadata": {
    "colab": {
     "base_uri": "https://localhost:8080/",
     "height": 623
    },
    "colab_type": "code",
    "id": "i9UpEcRT9B8d",
    "outputId": "7bcc6d86-bee3-4735-ab58-4144cc5116b0"
   },
   "outputs": [],
   "source": [
    "#2.5\n",
    "def two_five(list:List[str])-> None:\n",
    "  r_stamp = random.randint(1546300801, 1577836799) #это крайние стэмпы 2019 года\n",
    "  tz = pytz.timezone('Europe/Moscow')\n",
    "  r_time = datetime.fromtimestamp(r_stamp , tz)\n",
    "  print(\"Наше рандомное время:\",r_time)\n",
    "  print(\"Наше рандомное время как стэмп:\", r_stamp )\n",
    "  print(\"Применим его ко всем зонам:\")\n",
    "  for j in list:\n",
    "    tz = pytz.timezone(j)\n",
    "    t_time = datetime.fromtimestamp(r_stamp , tz) \n",
    "    print(j, ': ', t_time)"
   ]
  },
  {
   "cell_type": "code",
   "execution_count": 65,
   "metadata": {
    "scrolled": true
   },
   "outputs": [
    {
     "name": "stdout",
     "output_type": "stream",
     "text": [
      "Наше рандомное время: 2019-03-27 02:08:46+03:00\n",
      "Наше рандомное время как стэмп: 1553641726\n",
      "Применим его ко всем зонам:\n",
      "America/Toronto :  2019-03-26 19:08:46-04:00\n",
      "Europe/Berlin :  2019-03-27 00:08:46+01:00\n",
      "America/Chicago :  2019-03-26 18:08:46-05:00\n",
      "Europe/London :  2019-03-26 23:08:46+00:00\n",
      "Europe/Paris :  2019-03-27 00:08:46+01:00\n",
      "Europe/Budapest :  2019-03-27 00:08:46+01:00\n",
      "America/New_York :  2019-03-26 19:08:46-04:00\n",
      "Asia/Shanghai :  2019-03-27 07:08:46+08:00\n",
      "Asia/Tokyo :  2019-03-27 08:08:46+09:00\n",
      "Europe/Rome :  2019-03-27 00:08:46+01:00\n",
      "Europe/Amsterdam :  2019-03-27 00:08:46+01:00\n",
      "Australia/Sydney :  2019-03-27 10:08:46+11:00\n",
      "Asia/Seoul :  2019-03-27 08:08:46+09:00\n",
      "Asia/Yekaterinburg :  2019-03-27 04:08:46+05:00\n",
      "Europe/Madrid :  2019-03-27 00:08:46+01:00\n",
      "America/Los_Angeles :  2019-03-26 16:08:46-07:00\n",
      "Asia/Jakarta :  2019-03-27 06:08:46+07:00\n",
      "America/Mexico_City :  2019-03-26 17:08:46-06:00\n",
      "Africa/Johannesburg :  2019-03-27 01:08:46+02:00\n",
      "Europe/Istanbul :  2019-03-27 02:08:46+03:00\n",
      "Pacific/Honolulu :  2019-03-26 13:08:46-10:00\n",
      "America/Edmonton :  2019-03-26 17:08:46-06:00\n",
      "Asia/Manila :  2019-03-27 07:08:46+08:00\n",
      "America/Bogota :  2019-03-26 18:08:46-05:00\n",
      "Asia/Riyadh :  2019-03-27 02:08:46+03:00\n",
      "Europe/Zurich :  2019-03-27 00:08:46+01:00\n",
      "Africa/Casablanca :  2019-03-27 00:08:46+01:00\n",
      "Asia/Ho_Chi_Minh :  2019-03-27 06:08:46+07:00\n"
     ]
    }
   ],
   "source": [
    "two_five(zones)"
   ]
  }
 ],
 "metadata": {
  "colab": {
   "name": "hw1.ipynb",
   "provenance": []
  },
  "kernelspec": {
   "display_name": "Python 3",
   "language": "python",
   "name": "python3"
  },
  "language_info": {
   "codemirror_mode": {
    "name": "ipython",
    "version": 3
   },
   "file_extension": ".py",
   "mimetype": "text/x-python",
   "name": "python",
   "nbconvert_exporter": "python",
   "pygments_lexer": "ipython3",
   "version": "3.7.3"
  }
 },
 "nbformat": 4,
 "nbformat_minor": 1
}
