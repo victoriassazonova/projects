{
  "nbformat": 4,
  "nbformat_minor": 0,
  "metadata": {
    "kernelspec": {
      "display_name": "Python 3",
      "language": "python",
      "name": "python3"
    },
    "language_info": {
      "codemirror_mode": {
        "name": "ipython",
        "version": 3
      },
      "file_extension": ".py",
      "mimetype": "text/x-python",
      "name": "python",
      "nbconvert_exporter": "python",
      "pygments_lexer": "ipython3",
      "version": "3.7.0"
    },
    "colab": {
      "name": "search.ipynb",
      "provenance": [],
      "collapsed_sections": []
    }
  },
  "cells": [
    {
      "cell_type": "markdown",
      "metadata": {
        "id": "iYJL2tab_hjn"
      },
      "source": [
        "## Предобработка: "
      ]
    },
    {
      "cell_type": "code",
      "metadata": {
        "id": "lV17pPpEBsR_",
        "outputId": "62209916-7ff6-4e85-c911-6736a73da6e9",
        "colab": {
          "base_uri": "https://localhost:8080/",
          "height": 34
        }
      },
      "source": [
        "from google.colab import drive\n",
        "drive.mount(\"/content/drive\")"
      ],
      "execution_count": null,
      "outputs": [
        {
          "output_type": "stream",
          "text": [
            "Drive already mounted at /content/drive; to attempt to forcibly remount, call drive.mount(\"/content/drive\", force_remount=True).\n"
          ],
          "name": "stdout"
        }
      ]
    },
    {
      "cell_type": "code",
      "metadata": {
        "id": "dMzygHAeSpVC"
      },
      "source": [
        "from sklearn.model_selection import train_test_split\n",
        "import pandas as pd\n",
        "answers = pd.read_excel(\"/content/drive/My Drive/answers_base.xlsx\")\n",
        "questions = pd.read_excel(\"/content/drive/My Drive/queries_base.xlsx\")\n",
        "train, test1 = train_test_split(questions, test_size=0.3)"
      ],
      "execution_count": null,
      "outputs": []
    },
    {
      "cell_type": "code",
      "metadata": {
        "id": "EPQVYiw8CMdF"
      },
      "source": [
        "ans = pd.concat([pd.Series(row['Номер связки'], row[\"Текст вопросов\"].split('\\n'))              \n",
        "                    for _, row in answers.iterrows()]).reset_index()\n",
        "new = pd.DataFrame([train['Номер связки\\n'], train[\"Текст вопроса\"]]).transpose()\n",
        "new = new.rename(columns = {'Номер связки\\n': 'i', \"Текст вопроса\": 'k'}, inplace = False)\n",
        "ans = ans.rename(columns = {0: 'i', \"index\": 'k'}, inplace = False)\n",
        "train = new.append(ans, ignore_index = True)"
      ],
      "execution_count": null,
      "outputs": []
    },
    {
      "cell_type": "code",
      "metadata": {
        "id": "03ESp5oob2DE"
      },
      "source": [
        "train = train.dropna().reset_index()\n",
        "test1 = test1.dropna(thresh=3).reset_index()"
      ],
      "execution_count": null,
      "outputs": []
    },
    {
      "cell_type": "code",
      "metadata": {
        "id": "dHAyk08QG8Na",
        "outputId": "60dda42f-e5ca-429e-e9bc-c7002d2b7608",
        "colab": {
          "base_uri": "https://localhost:8080/",
          "height": 419
        }
      },
      "source": [
        "test1"
      ],
      "execution_count": null,
      "outputs": [
        {
          "output_type": "execute_result",
          "data": {
            "text/html": [
              "<div>\n",
              "<style scoped>\n",
              "    .dataframe tbody tr th:only-of-type {\n",
              "        vertical-align: middle;\n",
              "    }\n",
              "\n",
              "    .dataframe tbody tr th {\n",
              "        vertical-align: top;\n",
              "    }\n",
              "\n",
              "    .dataframe thead th {\n",
              "        text-align: right;\n",
              "    }\n",
              "</style>\n",
              "<table border=\"1\" class=\"dataframe\">\n",
              "  <thead>\n",
              "    <tr style=\"text-align: right;\">\n",
              "      <th></th>\n",
              "      <th>index</th>\n",
              "      <th>Текст вопроса</th>\n",
              "      <th>Номер связки\\n</th>\n",
              "      <th>Тематика</th>\n",
              "      <th>Unnamed: 3</th>\n",
              "      <th>Unnamed: 4</th>\n",
              "    </tr>\n",
              "  </thead>\n",
              "  <tbody>\n",
              "    <tr>\n",
              "      <th>0</th>\n",
              "      <td>2028</td>\n",
              "      <td>Савина Галина Ивановна брали мазок 29.08 резул...</td>\n",
              "      <td>6.0</td>\n",
              "      <td>ТЕСТИРОВАНИЕ (АНАЛИЗ) НА КОРОНАВИРУС\\n</td>\n",
              "      <td>NaN</td>\n",
              "      <td>NaN</td>\n",
              "    </tr>\n",
              "    <tr>\n",
              "      <th>1</th>\n",
              "      <td>1625</td>\n",
              "      <td>Скажите пожалуйста, приезжих из других регионо...</td>\n",
              "      <td>37.0</td>\n",
              "      <td>ОГРАНИЧЕНИЯ, ПРОПУСКНАЯ СИСТЕМА И ПЕРЕМЕЩЕНИЕ ...</td>\n",
              "      <td>NaN</td>\n",
              "      <td>NaN</td>\n",
              "    </tr>\n",
              "    <tr>\n",
              "      <th>2</th>\n",
              "      <td>1080</td>\n",
              "      <td>Здравствуйте!\\nМоя родственница находится на л...</td>\n",
              "      <td>257.0</td>\n",
              "      <td>ОКАЗАНИЕ МЕДИЦИНСКОЙ ПОМОЩИ, ГОТОВНОСТЬ СТАЦИО...</td>\n",
              "      <td>NaN</td>\n",
              "      <td>NaN</td>\n",
              "    </tr>\n",
              "    <tr>\n",
              "      <th>3</th>\n",
              "      <td>275</td>\n",
              "      <td>Добрый день, подскажите пожалуйста. Если иност...</td>\n",
              "      <td>308.0</td>\n",
              "      <td>ЗАКРЫТИЕ ГРАНИЦ, ОТКРЫТИЕ ГРАНИЦ РОССИИ И АВИА...</td>\n",
              "      <td>NaN</td>\n",
              "      <td>NaN</td>\n",
              "    </tr>\n",
              "    <tr>\n",
              "      <th>4</th>\n",
              "      <td>799</td>\n",
              "      <td>Здравствуйте.\\nПрилетел из Стамбула в Санкт-Пе...</td>\n",
              "      <td>308.0</td>\n",
              "      <td>ЗАКРЫТИЕ ГРАНИЦ, ОТКРЫТИЕ ГРАНИЦ РОССИИ И АВИА...</td>\n",
              "      <td>NaN</td>\n",
              "      <td>NaN</td>\n",
              "    </tr>\n",
              "    <tr>\n",
              "      <th>...</th>\n",
              "      <td>...</td>\n",
              "      <td>...</td>\n",
              "      <td>...</td>\n",
              "      <td>...</td>\n",
              "      <td>...</td>\n",
              "      <td>...</td>\n",
              "    </tr>\n",
              "    <tr>\n",
              "      <th>683</th>\n",
              "      <td>1290</td>\n",
              "      <td>Здравствуйте! У меня следующие симптомы: темпе...</td>\n",
              "      <td>79.0</td>\n",
              "      <td>О КОРОНАВИРУСЕ И СИМПТОМАХ</td>\n",
              "      <td>NaN</td>\n",
              "      <td>NaN</td>\n",
              "    </tr>\n",
              "    <tr>\n",
              "      <th>684</th>\n",
              "      <td>1054</td>\n",
              "      <td>Добрый день!Хотелось бы выяснить какой сейчас ...</td>\n",
              "      <td>257.0</td>\n",
              "      <td>ОКАЗАНИЕ МЕДИЦИНСКОЙ ПОМОЩИ, ГОТОВНОСТЬ СТАЦИО...</td>\n",
              "      <td>NaN</td>\n",
              "      <td>NaN</td>\n",
              "    </tr>\n",
              "    <tr>\n",
              "      <th>685</th>\n",
              "      <td>935</td>\n",
              "      <td>Прилетел сегодня из Турции, результаты теста н...</td>\n",
              "      <td>308.0</td>\n",
              "      <td>\\nЗАКРЫТИЕ ГРАНИЦ, ОТКРЫТИЕ ГРАНИЦ РОССИИ И АВ...</td>\n",
              "      <td>NaN</td>\n",
              "      <td>NaN</td>\n",
              "    </tr>\n",
              "    <tr>\n",
              "      <th>686</th>\n",
              "      <td>809</td>\n",
              "      <td>Здравствуйте. Извините за беспокойство, но нуж...</td>\n",
              "      <td>308.0</td>\n",
              "      <td>ЗАКРЫТИЕ ГРАНИЦ, ОТКРЫТИЕ ГРАНИЦ РОССИИ И АВИА...</td>\n",
              "      <td>NaN</td>\n",
              "      <td>NaN</td>\n",
              "    </tr>\n",
              "    <tr>\n",
              "      <th>687</th>\n",
              "      <td>1369</td>\n",
              "      <td>Добрый день. Ситуация следующая: я вызывал вра...</td>\n",
              "      <td>57.0</td>\n",
              "      <td>БОЛЬНИЧНЫЙ ЛИСТ\\n</td>\n",
              "      <td>NaN</td>\n",
              "      <td>NaN</td>\n",
              "    </tr>\n",
              "  </tbody>\n",
              "</table>\n",
              "<p>688 rows × 6 columns</p>\n",
              "</div>"
            ],
            "text/plain": [
              "     index  ... Unnamed: 4\n",
              "0     2028  ...        NaN\n",
              "1     1625  ...        NaN\n",
              "2     1080  ...        NaN\n",
              "3      275  ...        NaN\n",
              "4      799  ...        NaN\n",
              "..     ...  ...        ...\n",
              "683   1290  ...        NaN\n",
              "684   1054  ...        NaN\n",
              "685    935  ...        NaN\n",
              "686    809  ...        NaN\n",
              "687   1369  ...        NaN\n",
              "\n",
              "[688 rows x 6 columns]"
            ]
          },
          "metadata": {
            "tags": []
          },
          "execution_count": 295
        }
      ]
    },
    {
      "cell_type": "code",
      "metadata": {
        "id": "axoHPJVqBqss"
      },
      "source": [
        "c = train.index\n",
        "y_train = train[\"i\"].to_numpy()"
      ],
      "execution_count": null,
      "outputs": []
    },
    {
      "cell_type": "code",
      "metadata": {
        "id": "yrZtnrC_CSmc"
      },
      "source": [
        "import nltk\n",
        "nltk.download(\"stopwords\")"
      ],
      "execution_count": null,
      "outputs": []
    },
    {
      "cell_type": "code",
      "metadata": {
        "id": "6aMMAeH-CZBI"
      },
      "source": [
        "!pip install pymorphy2"
      ],
      "execution_count": null,
      "outputs": []
    },
    {
      "cell_type": "code",
      "metadata": {
        "id": "JdPBGEzfCbXI"
      },
      "source": [
        "from pymorphy2 import MorphAnalyzer\n",
        "from nltk.corpus import stopwords\n",
        "stop_words = set(stopwords.words('russian'))\n",
        "# функция препроцессинга\n",
        "def preprocess(rawtext):\n",
        "    ans = ''\n",
        "    for char in rawtext:\n",
        "        if char.isalpha() or char == ' ':\n",
        "            ans += char\n",
        "        else:\n",
        "            ans += ' '\n",
        "    words = ans.split(\" \")\n",
        "    w = []\n",
        "    for i in words:\n",
        "        if i != '':\n",
        "            p = morph.parse(i.lower())[0].normal_form\n",
        "            if p not in stop_words:\n",
        "                w.append(p)\n",
        "    return \" \".join(w)\n",
        "\n",
        "morph = MorphAnalyzer()"
      ],
      "execution_count": null,
      "outputs": []
    },
    {
      "cell_type": "code",
      "metadata": {
        "id": "9jLY-MJbCeIU"
      },
      "source": [
        "train['proc'] = train['k'].apply(lambda x: preprocess(x))\n",
        "test1['proc'] = test1['Текст вопроса'].apply(lambda x: preprocess(x))"
      ],
      "execution_count": null,
      "outputs": []
    },
    {
      "cell_type": "code",
      "metadata": {
        "id": "BAqcTgl9Cplo"
      },
      "source": [
        "test = pd.DataFrame([test1['Номер связки\\n'], test1['proc']]).transpose().reset_index()"
      ],
      "execution_count": null,
      "outputs": []
    },
    {
      "cell_type": "code",
      "metadata": {
        "id": "DsWzdXjJDEQt"
      },
      "source": [
        "x_test = test['proc']\n",
        "x_train = train['proc']\n",
        "y_test = test[\"Номер связки\\n\"].to_numpy()"
      ],
      "execution_count": null,
      "outputs": []
    },
    {
      "cell_type": "markdown",
      "metadata": {
        "id": "08wNdHyGDVrO"
      },
      "source": [
        "### Сделаем простой подход - по близости TF-IDF векторов:\n"
      ]
    },
    {
      "cell_type": "code",
      "metadata": {
        "id": "p9iX1lVcCgvm",
        "outputId": "4b74e184-2e80-4ce1-bace-b79ee928aef2",
        "colab": {
          "base_uri": "https://localhost:8080/",
          "height": 136
        }
      },
      "source": [
        "from sklearn.feature_extraction.text import TfidfVectorizer\n",
        "import numpy as np\n",
        "vectorizer_old = TfidfVectorizer()\n",
        "OLD = vectorizer_old.fit_transform(x_train)\n",
        "OLD.toarray()"
      ],
      "execution_count": null,
      "outputs": [
        {
          "output_type": "execute_result",
          "data": {
            "text/plain": [
              "array([[0., 0., 0., ..., 0., 0., 0.],\n",
              "       [0., 0., 0., ..., 0., 0., 0.],\n",
              "       [0., 0., 0., ..., 0., 0., 0.],\n",
              "       ...,\n",
              "       [0., 0., 0., ..., 0., 0., 0.],\n",
              "       [0., 0., 0., ..., 0., 0., 0.],\n",
              "       [0., 0., 0., ..., 0., 0., 0.]])"
            ]
          },
          "metadata": {
            "tags": []
          },
          "execution_count": 300
        }
      ]
    },
    {
      "cell_type": "code",
      "metadata": {
        "id": "gNgNVk0RDWp2"
      },
      "source": [
        "def q_to_vec(text):\n",
        "    ar = []\n",
        "    ar.append(text)\n",
        "    vec = vectorizer_old.transform(ar).toarray()\n",
        "    return vec[0]"
      ],
      "execution_count": null,
      "outputs": []
    },
    {
      "cell_type": "code",
      "metadata": {
        "id": "m-235SHCDG81"
      },
      "source": [
        "simple_answers = []\n",
        "for i, r in enumerate(x_test):\n",
        "    try:\n",
        "        total = OLD.dot(q_to_vec(r))\n",
        "\n",
        "        s = {}\n",
        "        for i, text in enumerate(total):\n",
        "            s[c[i]] = text\n",
        "\n",
        "        res = sorted(s.items(), key=lambda x: x[1], reverse=True)\n",
        "        simple_answers.append(y_train[res[0][0]])\n",
        "    except:\n",
        "        simple_answers.append(0)"
      ],
      "execution_count": null,
      "outputs": []
    },
    {
      "cell_type": "code",
      "metadata": {
        "id": "vZEx8oh0DrMs"
      },
      "source": [
        "num_correct = sum(p == t for p, t in zip(y_test, np.array(simple_answers)))"
      ],
      "execution_count": null,
      "outputs": []
    },
    {
      "cell_type": "code",
      "metadata": {
        "id": "tKY13ydBDvEM",
        "outputId": "41bb0ce6-0383-40e1-dd57-52c50571ec57",
        "colab": {
          "base_uri": "https://localhost:8080/",
          "height": 34
        }
      },
      "source": [
        "num_correct/len(y_test)"
      ],
      "execution_count": null,
      "outputs": [
        {
          "output_type": "execute_result",
          "data": {
            "text/plain": [
              "0.5261627906976745"
            ]
          },
          "metadata": {
            "tags": []
          },
          "execution_count": 303
        }
      ]
    },
    {
      "cell_type": "markdown",
      "metadata": {
        "id": "-QmkXNgQdVKL"
      },
      "source": [
        "##Попробуем улучшить подход - что, если подойти к решению как к мульти-лейбл классификации? Загрузим полученные TF-IDF в логистическую регрессию"
      ]
    },
    {
      "cell_type": "code",
      "metadata": {
        "id": "kBgwdh2VeteJ"
      },
      "source": [
        "from sklearn.linear_model import LogisticRegression"
      ],
      "execution_count": null,
      "outputs": []
    },
    {
      "cell_type": "code",
      "metadata": {
        "id": "jhuQXfN8eH0F"
      },
      "source": [
        "y_train = y_train.astype('int32')\n",
        "y_test = y_test.astype('int32')"
      ],
      "execution_count": null,
      "outputs": []
    },
    {
      "cell_type": "code",
      "metadata": {
        "id": "3ndTaMdVeARL"
      },
      "source": [
        "clf = LogisticRegression().fit(OLD, y_train)"
      ],
      "execution_count": null,
      "outputs": []
    },
    {
      "cell_type": "code",
      "metadata": {
        "id": "JN4VNatxeOWf"
      },
      "source": [
        "X_test = vectorizer_old.transform(x_test)"
      ],
      "execution_count": null,
      "outputs": []
    },
    {
      "cell_type": "code",
      "metadata": {
        "id": "IdIWCVlweKKV"
      },
      "source": [
        "predicted = clf.predict(X_test)"
      ],
      "execution_count": null,
      "outputs": []
    },
    {
      "cell_type": "code",
      "metadata": {
        "id": "EgSVFHEpE5kC",
        "outputId": "b443a3aa-2a76-43b6-bc90-37d359b00ae9",
        "colab": {
          "base_uri": "https://localhost:8080/",
          "height": 34
        }
      },
      "source": [
        "from sklearn.metrics import *\n",
        "acc = accuracy_score(y_test, predicted)\n",
        "print('accuracy={0:1.4f}'.format(acc))"
      ],
      "execution_count": null,
      "outputs": [
        {
          "output_type": "stream",
          "text": [
            "accuracy=0.6599\n"
          ],
          "name": "stdout"
        }
      ]
    },
    {
      "cell_type": "markdown",
      "metadata": {
        "id": "4YAxTEM1ejg-"
      },
      "source": [
        "##А если заменить tf-idf на count vectorizer?"
      ]
    },
    {
      "cell_type": "code",
      "metadata": {
        "id": "n9BgSXHUFWa6"
      },
      "source": [
        "from sklearn.feature_extraction.text import CountVectorizer"
      ],
      "execution_count": null,
      "outputs": []
    },
    {
      "cell_type": "code",
      "metadata": {
        "id": "dxWwMNgbFXFN",
        "outputId": "24de9805-bcfb-42b6-d8d9-40cf7a7acb5b",
        "colab": {
          "base_uri": "https://localhost:8080/",
          "height": 34
        }
      },
      "source": [
        "cv=CountVectorizer()\n",
        "cv_train=cv.fit_transform(x_train)\n",
        "print(cv_train.shape)"
      ],
      "execution_count": null,
      "outputs": [
        {
          "output_type": "stream",
          "text": [
            "(2383, 5865)\n"
          ],
          "name": "stdout"
        }
      ]
    },
    {
      "cell_type": "code",
      "metadata": {
        "id": "fa1yBKqxFgox"
      },
      "source": [
        "X_test = cv.transform(x_test)"
      ],
      "execution_count": null,
      "outputs": []
    },
    {
      "cell_type": "code",
      "metadata": {
        "id": "7YmSXCbzF9M7",
        "outputId": "a7426a34-f85b-474b-f4d8-5f6264be1291",
        "colab": {
          "base_uri": "https://localhost:8080/",
          "height": 51
        }
      },
      "source": [
        "X_test"
      ],
      "execution_count": null,
      "outputs": [
        {
          "output_type": "execute_result",
          "data": {
            "text/plain": [
              "<688x5865 sparse matrix of type '<class 'numpy.int64'>'\n",
              "\twith 18987 stored elements in Compressed Sparse Row format>"
            ]
          },
          "metadata": {
            "tags": []
          },
          "execution_count": 317
        }
      ]
    },
    {
      "cell_type": "code",
      "metadata": {
        "id": "WMXw9oDMFneD"
      },
      "source": [
        "clf = LogisticRegression(max_iter=1000).fit(cv_train, y_train)"
      ],
      "execution_count": null,
      "outputs": []
    },
    {
      "cell_type": "code",
      "metadata": {
        "id": "kfBYA_zJf8ao"
      },
      "source": [
        "predicted = clf.predict(X_test)"
      ],
      "execution_count": null,
      "outputs": []
    },
    {
      "cell_type": "code",
      "metadata": {
        "id": "jswjiqEzH5q2",
        "outputId": "6cf28134-f23e-47a8-e53b-460c9bd59c04",
        "colab": {
          "base_uri": "https://localhost:8080/",
          "height": 34
        }
      },
      "source": [
        "acc = accuracy_score(y_test, predicted)\n",
        "print('accuracy={0:1.4f}'.format(acc))"
      ],
      "execution_count": null,
      "outputs": [
        {
          "output_type": "stream",
          "text": [
            "accuracy=0.6788\n"
          ],
          "name": "stdout"
        }
      ]
    },
    {
      "cell_type": "markdown",
      "metadata": {
        "id": "cK5WQjmrfs4o"
      },
      "source": [
        "###Биграммы, другие n граммы только ухудшают качество:"
      ]
    },
    {
      "cell_type": "code",
      "metadata": {
        "id": "9YU6TX2ekCB5",
        "outputId": "072ea904-169a-4b2d-8269-29b4cefda9f5",
        "colab": {
          "base_uri": "https://localhost:8080/",
          "height": 34
        }
      },
      "source": [
        "cv=CountVectorizer(ngram_range=(1,2))\n",
        "cv_train=cv.fit_transform(x_train)\n",
        "print(cv_train.shape)"
      ],
      "execution_count": null,
      "outputs": [
        {
          "output_type": "stream",
          "text": [
            "(2383, 42006)\n"
          ],
          "name": "stdout"
        }
      ]
    },
    {
      "cell_type": "code",
      "metadata": {
        "id": "dFqtLQcOkFzq",
        "outputId": "3f380324-a9e3-40a7-aab2-5c165375ec3d",
        "colab": {
          "base_uri": "https://localhost:8080/",
          "height": 34
        }
      },
      "source": [
        "X_test = cv.transform(x_test)\n",
        "clf = LogisticRegression(max_iter=1000).fit(cv_train, y_train)\n",
        "predicted = clf.predict(X_test)\n",
        "acc = accuracy_score(y_test, predicted)\n",
        "print('accuracy={0:1.4f}'.format(acc))"
      ],
      "execution_count": null,
      "outputs": [
        {
          "output_type": "stream",
          "text": [
            "accuracy=0.6788\n"
          ],
          "name": "stdout"
        }
      ]
    },
    {
      "cell_type": "code",
      "metadata": {
        "id": "r1tQOpc6kmqd",
        "outputId": "2ae81ca6-a59e-4760-e9df-4e9325f94d67",
        "colab": {
          "base_uri": "https://localhost:8080/",
          "height": 34
        }
      },
      "source": [
        "cv=CountVectorizer(ngram_range=(1,3))\n",
        "cv_train=cv.fit_transform(x_train)\n",
        "print(cv_train.shape)"
      ],
      "execution_count": null,
      "outputs": [
        {
          "output_type": "stream",
          "text": [
            "(2383, 91068)\n"
          ],
          "name": "stdout"
        }
      ]
    },
    {
      "cell_type": "code",
      "metadata": {
        "id": "nqYtvZXtkm4f",
        "outputId": "53f5550f-0ad6-4a1b-f20d-da2f40b36a09",
        "colab": {
          "base_uri": "https://localhost:8080/",
          "height": 34
        }
      },
      "source": [
        "X_test = cv.transform(x_test)\n",
        "clf = LogisticRegression(max_iter=1000).fit(cv_train, y_train)\n",
        "predicted = clf.predict(X_test)\n",
        "acc = accuracy_score(y_test, predicted)\n",
        "print('accuracy={0:1.4f}'.format(acc))"
      ],
      "execution_count": null,
      "outputs": [
        {
          "output_type": "stream",
          "text": [
            "accuracy=0.6773\n"
          ],
          "name": "stdout"
        }
      ]
    },
    {
      "cell_type": "markdown",
      "metadata": {
        "id": "LCQw6x4qlOsA"
      },
      "source": [
        "###хочу потестить другие модели, так как с регрессией ничего лучше уже у меня не получается:"
      ]
    },
    {
      "cell_type": "code",
      "metadata": {
        "id": "kmjTXPW2ldni"
      },
      "source": [
        "cv=CountVectorizer()\n",
        "cv_train=cv.fit_transform(x_train)\n",
        "X_test = cv.transform(x_test)"
      ],
      "execution_count": null,
      "outputs": []
    },
    {
      "cell_type": "markdown",
      "metadata": {
        "id": "ZyFjaLJsr-rr"
      },
      "source": [
        "RandomForest:\n"
      ]
    },
    {
      "cell_type": "code",
      "metadata": {
        "id": "RSNIqRDL68LU",
        "outputId": "141f83b4-56d3-43b2-a536-cccf7dbbf9b7",
        "colab": {
          "base_uri": "https://localhost:8080/",
          "height": 156
        }
      },
      "source": [
        "from sklearn.pipeline import Pipeline \n",
        "from sklearn.model_selection import GridSearchCV\n",
        "from sklearn.ensemble import RandomForestClassifier\n",
        "pipe = Pipeline([('classifier', RandomForestClassifier())])\n",
        "\n",
        "param_grid = [\n",
        "    {'classifier' : [RandomForestClassifier()],\n",
        "    'classifier__n_estimators' : list(range(10,101,10)),\n",
        "    'classifier__max_features' : list(range(6,32,5))} \n",
        "]\n",
        "\n",
        "clf = GridSearchCV(pipe, param_grid = param_grid, cv = 5, verbose=True, n_jobs=-1)\n",
        "best_clf = clf.fit(cv_train, y_train)"
      ],
      "execution_count": null,
      "outputs": [
        {
          "output_type": "stream",
          "text": [
            "Fitting 5 folds for each of 60 candidates, totalling 300 fits\n"
          ],
          "name": "stdout"
        },
        {
          "output_type": "stream",
          "text": [
            "/usr/local/lib/python3.6/dist-packages/sklearn/model_selection/_split.py:667: UserWarning: The least populated class in y has only 1 members, which is less than n_splits=5.\n",
            "  % (min_groups, self.n_splits)), UserWarning)\n",
            "[Parallel(n_jobs=-1)]: Using backend LokyBackend with 2 concurrent workers.\n",
            "[Parallel(n_jobs=-1)]: Done  46 tasks      | elapsed:   46.0s\n",
            "[Parallel(n_jobs=-1)]: Done 196 tasks      | elapsed:  3.3min\n",
            "[Parallel(n_jobs=-1)]: Done 300 out of 300 | elapsed:  5.2min finished\n"
          ],
          "name": "stderr"
        }
      ]
    },
    {
      "cell_type": "code",
      "metadata": {
        "id": "Bd0BRQ8Z8Gc2"
      },
      "source": [
        "predicted = best_clf.predict(X_test)"
      ],
      "execution_count": null,
      "outputs": []
    },
    {
      "cell_type": "code",
      "metadata": {
        "id": "sId_xgJce7qp",
        "outputId": "cc2c3da8-852f-4b01-ac0e-3b5ca0db6c67",
        "colab": {
          "base_uri": "https://localhost:8080/",
          "height": 34
        }
      },
      "source": [
        "acc = accuracy_score(y_test.astype('int32'), predicted)\n",
        "print('accuracy={0:1.4f}'.format(acc))"
      ],
      "execution_count": null,
      "outputs": [
        {
          "output_type": "stream",
          "text": [
            "accuracy=0.5991\n"
          ],
          "name": "stdout"
        }
      ]
    },
    {
      "cell_type": "markdown",
      "metadata": {
        "id": "oFS3KFuatC8s"
      },
      "source": [
        "####хочу попробовать еще SGDClassifier"
      ]
    },
    {
      "cell_type": "markdown",
      "metadata": {
        "id": "FPxrkZ1V9I40"
      },
      "source": [
        "подберем функцию ошибки"
      ]
    },
    {
      "cell_type": "code",
      "metadata": {
        "id": "yRX5mTCDP2TG"
      },
      "source": [
        "from sklearn.feature_extraction.text import TfidfTransformer"
      ],
      "execution_count": null,
      "outputs": []
    },
    {
      "cell_type": "code",
      "metadata": {
        "id": "AVkD38Ql93rf"
      },
      "source": [
        "import matplotlib.pyplot as plt\n",
        "from sklearn.linear_model import SGDClassifier"
      ],
      "execution_count": null,
      "outputs": []
    },
    {
      "cell_type": "code",
      "metadata": {
        "id": "N7z0HUAxSnPa",
        "outputId": "f33fed64-db75-4b1d-fff2-17b203637291",
        "colab": {
          "base_uri": "https://localhost:8080/",
          "height": 367
        }
      },
      "source": [
        "losses = [\"hinge\", \"log\", \"modified_huber\", \"perceptron\", \"squared_hinge\"]\n",
        "scores = []\n",
        "for loss in losses:\n",
        "    model = SGDClassifier(loss=loss, max_iter=1000)\n",
        "    model.fit(cv_train, y_train)\n",
        "    scores.append(model.score(X_test, y_test))\n",
        "  \n",
        "plt.title(\"Effect of loss\")\n",
        "plt.xlabel(\"loss\")\n",
        "plt.ylabel(\"score\")\n",
        "x = np.arange(len(losses))\n",
        "plt.xticks(x, losses)\n",
        "plt.plot(x, scores) \n"
      ],
      "execution_count": null,
      "outputs": [
        {
          "output_type": "stream",
          "text": [
            "/usr/local/lib/python3.6/dist-packages/sklearn/linear_model/_stochastic_gradient.py:557: ConvergenceWarning: Maximum number of iteration reached before convergence. Consider increasing max_iter to improve the fit.\n",
            "  ConvergenceWarning)\n"
          ],
          "name": "stderr"
        },
        {
          "output_type": "execute_result",
          "data": {
            "text/plain": [
              "[<matplotlib.lines.Line2D at 0x7f9f756280b8>]"
            ]
          },
          "metadata": {
            "tags": []
          },
          "execution_count": 328
        },
        {
          "output_type": "display_data",
          "data": {
            "image/png": "[encoded data removed]",
            "text/plain": [
              "<Figure size 432x288 with 1 Axes>"
            ]
          },
          "metadata": {
            "tags": [],
            "needs_background": "light"
          }
        }
      ]
    },
    {
      "cell_type": "markdown",
      "metadata": {
        "id": "30WOAL3DB656"
      },
      "source": [
        "добавлю TfidfTransformer"
      ]
    },
    {
      "cell_type": "code",
      "metadata": {
        "id": "-tNVTYrB-D50",
        "outputId": "2fed17b9-e4ba-4e74-d84b-cf8f27b25ef6",
        "colab": {
          "base_uri": "https://localhost:8080/",
          "height": 34
        }
      },
      "source": [
        "sgd = Pipeline([('tfidf', TfidfTransformer()),\n",
        "                ('clf', SGDClassifier(loss= 'log')),\n",
        "               ])\n",
        "sgd.fit(cv_train, y_train)\n",
        "\n",
        "\n",
        "\n",
        "y_pred = sgd.predict(X_test)\n",
        "\n",
        "print('accuracy %s' % accuracy_score(y_pred, y_test))"
      ],
      "execution_count": null,
      "outputs": [
        {
          "output_type": "stream",
          "text": [
            "accuracy 0.6991279069767442\n"
          ],
          "name": "stdout"
        }
      ]
    },
    {
      "cell_type": "markdown",
      "metadata": {
        "id": "cY8RWA7MABwe"
      },
      "source": [
        "гридсерч почему-то не помогает.."
      ]
    },
    {
      "cell_type": "code",
      "metadata": {
        "id": "c3rcDFElTcY8"
      },
      "source": [
        "from sklearn.model_selection import GridSearchCV\n",
        "\n",
        "params = {\n",
        "    \"loss\" : [\"log\"],\n",
        "    \"alpha\" : [0.0001, 0.001, 0.01, 0.1],\n",
        "    \"penalty\" : [\"l2\", \"l1\", \"none\"],\n",
        "    \"max_iter\" : [5,10,50,100,200,500,1000,2000]\n",
        "}\n",
        "\n",
        "model = SGDClassifier()\n",
        "clf = GridSearchCV(model, param_grid=params)"
      ],
      "execution_count": null,
      "outputs": []
    },
    {
      "cell_type": "code",
      "metadata": {
        "id": "ELAocu7fTgiy",
        "outputId": "172f5a94-5007-404a-fdf4-3367cfa95dd9",
        "colab": {
          "base_uri": "https://localhost:8080/",
          "height": 122
        }
      },
      "source": [
        "clf.fit(cv_train, y_train)\n",
        "print(clf.best_score_)"
      ],
      "execution_count": null,
      "outputs": [
        {
          "output_type": "stream",
          "text": [
            "/usr/local/lib/python3.6/dist-packages/sklearn/model_selection/_split.py:667: UserWarning: The least populated class in y has only 1 members, which is less than n_splits=5.\n",
            "  % (min_groups, self.n_splits)), UserWarning)\n",
            "/usr/local/lib/python3.6/dist-packages/sklearn/linear_model/_stochastic_gradient.py:557: ConvergenceWarning: Maximum number of iteration reached before convergence. Consider increasing max_iter to improve the fit.\n",
            "  ConvergenceWarning)\n"
          ],
          "name": "stderr"
        },
        {
          "output_type": "stream",
          "text": [
            "0.6874249070697461\n"
          ],
          "name": "stdout"
        }
      ]
    },
    {
      "cell_type": "code",
      "metadata": {
        "id": "69P-dFa96TrJ",
        "outputId": "a56cb3fa-a2ac-45b8-89ef-57f8ec58b1c5",
        "colab": {
          "base_uri": "https://localhost:8080/",
          "height": 34
        }
      },
      "source": [
        "clf.best_params_"
      ],
      "execution_count": null,
      "outputs": [
        {
          "output_type": "execute_result",
          "data": {
            "text/plain": [
              "{'alpha': 0.001, 'loss': 'log', 'max_iter': 50, 'penalty': 'l2'}"
            ]
          },
          "metadata": {
            "tags": []
          },
          "execution_count": 202
        }
      ]
    },
    {
      "cell_type": "code",
      "metadata": {
        "id": "ouyVQwH97crl",
        "outputId": "9a06832a-92bb-4089-ac22-03f8f9d85c1b",
        "colab": {
          "base_uri": "https://localhost:8080/",
          "height": 34
        }
      },
      "source": [
        "predicted = clf.predict(X_test)\n",
        "acc = accuracy_score(y_test.astype('int32'), predicted)\n",
        "print('accuracy={0:1.4f}'.format(acc))"
      ],
      "execution_count": null,
      "outputs": [
        {
          "output_type": "stream",
          "text": [
            "accuracy=0.6817\n"
          ],
          "name": "stdout"
        }
      ]
    },
    {
      "cell_type": "markdown",
      "metadata": {
        "id": "ENnBMdssBxS4"
      },
      "source": [
        "попробую сделать пайплайн сразу с векторайзером:"
      ]
    },
    {
      "cell_type": "code",
      "metadata": {
        "id": "Q_Jil6nO_fmb",
        "outputId": "007988c4-ccf8-4161-d829-604ef6aa2290",
        "colab": {
          "base_uri": "https://localhost:8080/",
          "height": 34
        }
      },
      "source": [
        "sgd = Pipeline([('vect', CountVectorizer()),\n",
        "                ('tfidf', TfidfTransformer()),\n",
        "                ('clf', SGDClassifier(loss= 'log')),\n",
        "               ])\n",
        "sgd.fit(x_train, y_train)\n",
        "\n",
        "\n",
        "\n",
        "y_pred = sgd.predict(x_test)\n",
        "\n",
        "print('accuracy %s' % accuracy_score(y_pred, y_test))"
      ],
      "execution_count": null,
      "outputs": [
        {
          "output_type": "stream",
          "text": [
            "accuracy 0.7020348837209303\n"
          ],
          "name": "stdout"
        }
      ]
    }
  ]
}